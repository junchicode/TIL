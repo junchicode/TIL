{
 "cells": [
  {
   "cell_type": "code",
   "execution_count": 1,
   "metadata": {},
   "outputs": [
    {
     "name": "stdout",
     "output_type": "stream",
     "text": [
      "{'genre_ids': [18, 80],\n",
      " 'id': 278,\n",
      " 'overview': '촉망받는 은행 간부 앤디 듀프레인은 아내와 그녀의 정부를 살해했다는 누명을 쓴다. 주변의 증언과 살해 현장의 '\n",
      "             '그럴듯한 증거들로 그는 종신형을 선고받고 악질범들만 수용한다는 지옥같은 교도소 쇼생크로 향한다. 인간 말종 '\n",
      "             '쓰레기들만 모인 그곳에서 그는 이루 말할 수 없는 억압과 짐승보다 못한 취급을 당한다. 그러던 어느 날, 간수의 '\n",
      "             '세금을 면제받게 해 준 덕분에 그는 일약 교도소의 비공식 회계사로 일하게 된다. 그 와중에 교도소 소장은 죄수들을 '\n",
      "             '이리저리 부리면서 검은 돈을 긁어 모으고 앤디는 이 돈을 세탁하여 불려주면서 그의 돈을 관리하는데...',\n",
      " 'poster_path': '/3hO6DIGRBaJQj2NLEYBMwpcz88D.jpg',\n",
      " 'title': '쇼생크 탈출',\n",
      " 'vote_average': 8.7}\n"
     ]
    }
   ],
   "source": [
    "import json\n",
    "from pprint import pprint\n",
    "\n",
    "\n",
    "def movie_info(movie):\n",
    "    pass \n",
    "    # 여기에 코드를 작성합니다.    \n",
    "    new_data = {\n",
    "        'id': movie.get('id'),\n",
    "        'title': movie.get('title'),\n",
    "        'poster_path': movie.get('poster_path'),\n",
    "        'vote_average': movie.get('vote_average'),\n",
    "        'overview': movie.get('overview'), \n",
    "        'genre_ids': movie.get('genre_ids')\n",
    "    }\n",
    "    return new_data\n",
    "\n",
    "# 아래의 코드는 수정하지 않습니다.\n",
    "if __name__ == '__main__':\n",
    "    movie_json = open('data/movie.json', encoding='utf-8')\n",
    "    movie_dict = json.load(movie_json)\n",
    "    \n",
    "    pprint(movie_info(movie_dict))\n",
    "\n",
    "\n"
   ]
  }
 ],
 "metadata": {
  "kernelspec": {
   "display_name": "Python 3.9.13 64-bit",
   "language": "python",
   "name": "python3"
  },
  "language_info": {
   "codemirror_mode": {
    "name": "ipython",
    "version": 3
   },
   "file_extension": ".py",
   "mimetype": "text/x-python",
   "name": "python",
   "nbconvert_exporter": "python",
   "pygments_lexer": "ipython3",
   "version": "3.9.13"
  },
  "orig_nbformat": 4,
  "vscode": {
   "interpreter": {
    "hash": "3d3579b64ed644892bc49d0da2d1890659408e00eebf25200bc250e1696a02dd"
   }
  }
 },
 "nbformat": 4,
 "nbformat_minor": 2
}
