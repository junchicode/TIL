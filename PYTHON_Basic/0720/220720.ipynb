{
 "cells": [
  {
   "cell_type": "markdown",
   "metadata": {},
   "source": [
    "| print vs return\n",
    "- 데이터 처리를 위해서는 return 사용"
   ]
  },
  {
   "cell_type": "markdown",
   "metadata": {},
   "source": [
    "| Argument란\n",
    "- 함수 호출 시 함수의 parameter 통해 전달되는 값\n",
    "- func_name(argument)"
   ]
  },
  {
   "cell_type": "markdown",
   "metadata": {},
   "source": [
    "### 패킹 / 언패킹\n",
    "- 언패킹시 변수의 개수와 할당하고자 하는 요소의 갯수가 동일해야함\n",
    "- 언패킹시 왼쪽의 변수에 asterisk(*)를 붙이면, 할당하고 남은 요소를 리스트에 담을 수 있음"
   ]
  },
  {
   "cell_type": "code",
   "execution_count": 3,
   "metadata": {},
   "outputs": [],
   "source": [
    "numbers = (1,2,3,4,5)\n",
    "a, b, c, d, e = numbers\n"
   ]
  },
  {
   "cell_type": "code",
   "execution_count": 4,
   "metadata": {},
   "outputs": [
    {
     "name": "stdout",
     "output_type": "stream",
     "text": [
      "1 2 [3, 4, 5]\n"
     ]
    }
   ],
   "source": [
    "numbers = (1,2,3,4,5)\n",
    "a,b,*rest = numbers\n",
    "print(a, b, rest)"
   ]
  },
  {
   "cell_type": "code",
   "execution_count": null,
   "metadata": {},
   "outputs": [],
   "source": []
  },
  {
   "cell_type": "markdown",
   "metadata": {},
   "source": [
    "| 가변 키워드 인자(**kwargs)\n",
    "\n",
    "- 몇 개의 키워드 인자를 받을지 모르는 함수를 정의할 때 유용\n",
    "- kwargs는 딕셔너리로 묶여 처리되며, parameter에 **를 붙여 표현\n",
    "\n",
    "\n"
   ]
  },
  {
   "cell_type": "code",
   "execution_count": 1,
   "metadata": {},
   "outputs": [
    {
     "name": "stdout",
     "output_type": "stream",
     "text": [
      "father : f\n",
      "mother : m\n",
      "baby : b\n"
     ]
    }
   ],
   "source": [
    "def family(**kwargs):\n",
    "    for key, value in kwargs.items():\n",
    "        print(key, \":\", value)\n",
    "\n",
    "family(father = 'f', mother = 'm', baby = 'b')"
   ]
  },
  {
   "cell_type": "code",
   "execution_count": 2,
   "metadata": {},
   "outputs": [
    {
     "name": "stdout",
     "output_type": "stream",
     "text": [
      "father : father\n",
      "mother : mother\n",
      "애기덜\n",
      "b1 : 잔디\n",
      "b2 : 아리\n"
     ]
    }
   ],
   "source": [
    "def print_family_name(father, mother,**pets):\n",
    "    print(\"father :\", father)\n",
    "    print(\"mother :\", mother)\n",
    "    if pets:\n",
    "        print(\"애기덜\")\n",
    "        for species, name in pets.items():\n",
    "            print(f'{species} : {name}')\n",
    "\n",
    "print_family_name('father', 'mother', b1 = '잔디', b2 = '아리')"
   ]
  },
  {
   "cell_type": "code",
   "execution_count": null,
   "metadata": {},
   "outputs": [],
   "source": []
  }
 ],
 "metadata": {
  "kernelspec": {
   "display_name": "Python 3.9.7 ('base')",
   "language": "python",
   "name": "python3"
  },
  "language_info": {
   "codemirror_mode": {
    "name": "ipython",
    "version": 3
   },
   "file_extension": ".py",
   "mimetype": "text/x-python",
   "name": "python",
   "nbconvert_exporter": "python",
   "pygments_lexer": "ipython3",
   "version": "3.9.7"
  },
  "orig_nbformat": 4,
  "vscode": {
   "interpreter": {
    "hash": "353bf56699e820da86445a43b8e523d236561cb272cab0a8618bc59312f58bc1"
   }
  }
 },
 "nbformat": 4,
 "nbformat_minor": 2
}
