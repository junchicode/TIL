{
 "cells": [
  {
   "cell_type": "markdown",
   "metadata": {},
   "source": [
    "1. 간단한 n의 약수 SWEA 1933\n"
   ]
  },
  {
   "cell_type": "code",
   "execution_count": 1,
   "metadata": {},
   "outputs": [
    {
     "name": "stdout",
     "output_type": "stream",
     "text": [
      "1 2 5 10 "
     ]
    }
   ],
   "source": [
    "n = int(input())\n",
    "\n",
    "def divd(a):\n",
    "    nl = []\n",
    "    for i in range(1, n + 1):\n",
    "        if n % i == 0:\n",
    "            nl.append(i)\n",
    "            if i > n//2:\n",
    "                return nl\n",
    "                \n",
    "    \n",
    "res = divd(n)\n",
    "for i in res:\n",
    "    print(i, end = ' ')\n",
    "        "
   ]
  },
  {
   "cell_type": "markdown",
   "metadata": {},
   "source": [
    "2. List의 합 구하기"
   ]
  },
  {
   "cell_type": "code",
   "execution_count": 2,
   "metadata": {},
   "outputs": [
    {
     "name": "stdout",
     "output_type": "stream",
     "text": [
      "6\n"
     ]
    }
   ],
   "source": [
    "tc = list(map(int, input().split()))\n",
    "def list_sum(a):\n",
    "    total = 0\n",
    "    for i in a:\n",
    "        total += i\n",
    "    \n",
    "    print(total)\n",
    "    \n",
    "list_sum(tc)\n",
    "        "
   ]
  },
  {
   "cell_type": "markdown",
   "metadata": {},
   "source": [
    "3. Dict으로 이루어진 list의 합 구하기"
   ]
  },
  {
   "cell_type": "code",
   "execution_count": 3,
   "metadata": {},
   "outputs": [
    {
     "name": "stdout",
     "output_type": "stream",
     "text": [
      "25\n"
     ]
    }
   ],
   "source": [
    "def dict_list_sum(a):\n",
    "    total = 0\n",
    "    for i in a:\n",
    "        total += i['age']\n",
    "        \n",
    "    print(total)\n",
    "        \n",
    "dict_list_sum([{'name':'kim', 'age': 12}, {'name':'dong', 'age': 13}])\n",
    "\n",
    "    "
   ]
  },
  {
   "cell_type": "markdown",
   "metadata": {},
   "source": [
    "4. 2차원 list의 전체 합 구하기"
   ]
  },
  {
   "cell_type": "code",
   "execution_count": 4,
   "metadata": {},
   "outputs": [
    {
     "name": "stdout",
     "output_type": "stream",
     "text": [
      "55\n"
     ]
    }
   ],
   "source": [
    "def all_list_sum(a):\n",
    "    sum = 0\n",
    "    for i in a:\n",
    "        length = len(i)\n",
    "        for j in range(length):\n",
    "            sum += i[j]\n",
    "            \n",
    "    print(sum)\n",
    "all_list_sum([[1],[2,3],[4,5,6],[7,8,9,10]])"
   ]
  },
  {
   "cell_type": "markdown",
   "metadata": {},
   "source": [
    "5. 숫자의 의미 (아스키코드)"
   ]
  },
  {
   "cell_type": "code",
   "execution_count": 5,
   "metadata": {},
   "outputs": [
    {
     "name": "stdout",
     "output_type": "stream",
     "text": [
      "SsAfY\n"
     ]
    }
   ],
   "source": [
    "def get_secret_word(a):\n",
    "    word = ''\n",
    "    for i in a:\n",
    "        word += chr(i)\n",
    "        \n",
    "    print(word)\n",
    "\n",
    "\n",
    "get_secret_word([83, 115, 65, 102, 89])\n"
   ]
  },
  {
   "cell_type": "markdown",
   "metadata": {},
   "source": [
    "6. 내 이름은 몇일까?"
   ]
  },
  {
   "cell_type": "code",
   "execution_count": 6,
   "metadata": {},
   "outputs": [
    {
     "name": "stdout",
     "output_type": "stream",
     "text": [
      "546\n"
     ]
    }
   ],
   "source": [
    "def get_secret_number(a):\n",
    "    total = 0\n",
    "    for i in a:\n",
    "        total += ord(i)\n",
    "        \n",
    "    print(total)\n",
    "        \n",
    "    \n",
    "get_secret_number('happy')"
   ]
  },
  {
   "cell_type": "markdown",
   "metadata": {},
   "source": [
    "7. 강한 이름"
   ]
  },
  {
   "cell_type": "code",
   "execution_count": 7,
   "metadata": {},
   "outputs": [
    {
     "name": "stdout",
     "output_type": "stream",
     "text": [
      "dong\n"
     ]
    }
   ],
   "source": [
    "def get_strong_word(a, b):\n",
    "    namea = 0\n",
    "    nameb = 0\n",
    "    for i in a:\n",
    "        namea += ord(i)\n",
    "    for i in b:\n",
    "        nameb += ord(i)\n",
    "    if namea > nameb:\n",
    "        print(a)\n",
    "    elif nameb > namea:\n",
    "        print(b)\n",
    "    else:\n",
    "        print(a, b)\n",
    "    \n",
    "get_strong_word('dong','ding')"
   ]
  }
 ],
 "metadata": {
  "kernelspec": {
   "display_name": "Python 3.9.13 64-bit",
   "language": "python",
   "name": "python3"
  },
  "language_info": {
   "codemirror_mode": {
    "name": "ipython",
    "version": 3
   },
   "file_extension": ".py",
   "mimetype": "text/x-python",
   "name": "python",
   "nbconvert_exporter": "python",
   "pygments_lexer": "ipython3",
   "version": "3.9.13"
  },
  "orig_nbformat": 4,
  "vscode": {
   "interpreter": {
    "hash": "3d3579b64ed644892bc49d0da2d1890659408e00eebf25200bc250e1696a02dd"
   }
  }
 },
 "nbformat": 4,
 "nbformat_minor": 2
}
