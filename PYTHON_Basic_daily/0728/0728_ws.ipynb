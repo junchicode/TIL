{
 "cells": [
  {
   "cell_type": "markdown",
   "metadata": {},
   "source": [
    "Background \n",
    "- OOP\n",
    "- class, instance, method"
   ]
  },
  {
   "cell_type": "markdown",
   "metadata": {},
   "source": [
    "1. 도형만들기\n",
    "- 클래스를 이용하여 점과 사각형을 표현하시오"
   ]
  },
  {
   "cell_type": "code",
   "execution_count": 1,
   "metadata": {},
   "outputs": [
    {
     "name": "stdout",
     "output_type": "stream",
     "text": [
      "4\n",
      "8\n",
      "True\n",
      "9\n",
      "12\n",
      "True\n"
     ]
    }
   ],
   "source": [
    "class Point:\n",
    "    \n",
    "    def __init__(self, x=0, y=0): # 인스턴스가 생성될 때, 전달 받은 int값들로 인스턴스 변수 x와 y 초기화\n",
    "        self.x = x\n",
    "        self.y = y\n",
    "               \n",
    "class Rectangle:\n",
    "    \n",
    "    def __init__(self,p1,p2): # 2개 포인트 전달 받아 초기화\n",
    "    \n",
    "        self.p2 = p2    \n",
    "        self.p1 = p1\n",
    "        \n",
    "    def get_area(self):\n",
    "        w = abs(self.p1.x - self.p2.x) # self.p1.x 식으로 받아야 global을 참조 안함\n",
    "        h = abs(self.p1.y - self.p2.y)\n",
    "        return w*h\n",
    "        \n",
    "    def get_perimeter(self):\n",
    "        w = abs(self.p1.x - self.p2.x)\n",
    "        h = abs(self.p1.y - self.p2.y)\n",
    "        \n",
    "        return w*2+h*2 \n",
    "        \n",
    "    def is_square(self):\n",
    "        w = abs(self.p1.x - self.p2.x)\n",
    "        h = abs(self.p1.y - self.p2.y)\n",
    "        if w == h:\n",
    "            return True\n",
    "        else:\n",
    "            return False\n",
    "\n",
    "p1 = Point(1,3)\n",
    "p2 = Point(3,1)\n",
    "r1 = Rectangle(p1, p2)\n",
    "print(r1.get_area())\n",
    "print(r1.get_perimeter())\n",
    "print(r1.is_square())\n",
    "\n",
    "p3 = Point(3,7)\n",
    "p4 = Point(6,4)\n",
    "r2 = Rectangle(p3, p4)  \n",
    "print(r2.get_area())\n",
    "print(r2.get_perimeter())\n",
    "print(r2.is_square())\n"
   ]
  },
  {
   "cell_type": "code",
   "execution_count": null,
   "metadata": {},
   "outputs": [],
   "source": []
  }
 ],
 "metadata": {
  "kernelspec": {
   "display_name": "Python 3.9.13 64-bit",
   "language": "python",
   "name": "python3"
  },
  "language_info": {
   "codemirror_mode": {
    "name": "ipython",
    "version": 3
   },
   "file_extension": ".py",
   "mimetype": "text/x-python",
   "name": "python",
   "nbconvert_exporter": "python",
   "pygments_lexer": "ipython3",
   "version": "3.9.13"
  },
  "orig_nbformat": 4,
  "vscode": {
   "interpreter": {
    "hash": "3d3579b64ed644892bc49d0da2d1890659408e00eebf25200bc250e1696a02dd"
   }
  }
 },
 "nbformat": 4,
 "nbformat_minor": 2
}
